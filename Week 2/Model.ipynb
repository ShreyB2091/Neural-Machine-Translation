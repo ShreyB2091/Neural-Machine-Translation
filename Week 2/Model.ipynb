{
  "cells": [
    {
      "cell_type": "markdown",
      "metadata": {
        "id": "view-in-github",
        "colab_type": "text"
      },
      "source": [
        "<a href=\"https://colab.research.google.com/github/pradeep2c1/Machine-Translation-model/blob/main/Model.ipynb\" target=\"_parent\"><img src=\"https://colab.research.google.com/assets/colab-badge.svg\" alt=\"Open In Colab\"/></a>"
      ]
    },
    {
      "cell_type": "code",
      "execution_count": 2,
      "metadata": {
        "id": "aByTLISdCSpp"
      },
      "outputs": [],
      "source": [
        "import string\n",
        "import numpy as np\n",
        "import pandas as pd\n",
        "import tensorflow as tf\n",
        "from tensorflow import keras\n",
        "import matplotlib.pyplot as plt\n",
        "import seaborn as sns\n",
        "%matplotlib inline\n",
        " \n",
        "from sklearn.utils import shuffle\n",
        "from sklearn.model_selection import train_test_split\n",
        "from keras.layers import Input, LSTM, Embedding, Dense\n",
        "from keras.models import Model\n",
        "\n",
        "import re"
      ]
    },
    {
      "cell_type": "code",
      "source": [
        "!nvidia-smi"
      ],
      "metadata": {
        "colab": {
          "base_uri": "https://localhost:8080/"
        },
        "id": "xvs3YYFrYXmN",
        "outputId": "936355b6-4805-4255-f2db-63446474b132"
      },
      "execution_count": 1,
      "outputs": [
        {
          "output_type": "stream",
          "name": "stdout",
          "text": [
            "Sun Jan  8 07:56:55 2023       \n",
            "+-----------------------------------------------------------------------------+\n",
            "| NVIDIA-SMI 460.32.03    Driver Version: 460.32.03    CUDA Version: 11.2     |\n",
            "|-------------------------------+----------------------+----------------------+\n",
            "| GPU  Name        Persistence-M| Bus-Id        Disp.A | Volatile Uncorr. ECC |\n",
            "| Fan  Temp  Perf  Pwr:Usage/Cap|         Memory-Usage | GPU-Util  Compute M. |\n",
            "|                               |                      |               MIG M. |\n",
            "|===============================+======================+======================|\n",
            "|   0  Tesla T4            Off  | 00000000:00:04.0 Off |                    0 |\n",
            "| N/A   67C    P0    30W /  70W |      0MiB / 15109MiB |      0%      Default |\n",
            "|                               |                      |                  N/A |\n",
            "+-------------------------------+----------------------+----------------------+\n",
            "                                                                               \n",
            "+-----------------------------------------------------------------------------+\n",
            "| Processes:                                                                  |\n",
            "|  GPU   GI   CI        PID   Type   Process name                  GPU Memory |\n",
            "|        ID   ID                                                   Usage      |\n",
            "|=============================================================================|\n",
            "|  No running processes found                                                 |\n",
            "+-----------------------------------------------------------------------------+\n"
          ]
        }
      ]
    },
    {
      "cell_type": "code",
      "source": [
        "tf.test.gpu_device_name()"
      ],
      "metadata": {
        "colab": {
          "base_uri": "https://localhost:8080/",
          "height": 36
        },
        "id": "kcz51fdAYp_8",
        "outputId": "08d6dc6e-ce6b-4b7f-8283-70d0864babe8"
      },
      "execution_count": 3,
      "outputs": [
        {
          "output_type": "execute_result",
          "data": {
            "text/plain": [
              "'/device:GPU:0'"
            ],
            "application/vnd.google.colaboratory.intrinsic+json": {
              "type": "string"
            }
          },
          "metadata": {},
          "execution_count": 3
        }
      ]
    },
    {
      "cell_type": "markdown",
      "metadata": {
        "id": "o4dOWFN2YO83"
      },
      "source": [
        "# Data pre-processing"
      ]
    },
    {
      "cell_type": "code",
      "execution_count": 4,
      "metadata": {
        "id": "8B5h0UHMmEgQ"
      },
      "outputs": [],
      "source": [
        "lines = pd.read_csv(\"Hindi_English_Truncated_Corpus.csv\", encoding='utf-8')"
      ]
    },
    {
      "cell_type": "code",
      "execution_count": 5,
      "metadata": {
        "id": "REzTYEAEmYlu",
        "colab": {
          "base_uri": "https://localhost:8080/"
        },
        "outputId": "656c2d6d-8995-4fdc-f500-5960b824bd05"
      },
      "outputs": [
        {
          "output_type": "execute_result",
          "data": {
            "text/plain": [
              "tides        50000\n",
              "ted          39881\n",
              "indic2012    37726\n",
              "Name: source, dtype: int64"
            ]
          },
          "metadata": {},
          "execution_count": 5
        }
      ],
      "source": [
        "lines['source'].value_counts()"
      ]
    },
    {
      "cell_type": "code",
      "execution_count": 6,
      "metadata": {
        "id": "NU6z_ZbLs8N7",
        "colab": {
          "base_uri": "https://localhost:8080/",
          "height": 363
        },
        "outputId": "dd856585-db0d-4035-ece1-25fe770eafce"
      },
      "outputs": [
        {
          "output_type": "execute_result",
          "data": {
            "text/plain": [
              "   source                                   english_sentence  \\\n",
              "0     ted  politicians do not have permission to do what ...   \n",
              "1     ted         I'd like to tell you about one such child,   \n",
              "3     ted  what we really mean is that they're bad at not...   \n",
              "7     ted   And who are we to say, even, that they are wrong   \n",
              "13    ted                   So there is some sort of justice   \n",
              "23    ted                                This changed slowly   \n",
              "26    ted                               were being produced.   \n",
              "30    ted        And you can see, this LED is going to glow.   \n",
              "32    ted  to turn on the lights or to bring him a glass ...   \n",
              "35    ted                       Can you imagine saying that?   \n",
              "\n",
              "                                       hindi_sentence  \n",
              "0   राजनीतिज्ञों के पास जो कार्य करना चाहिए, वह कर...  \n",
              "1   मई आपको ऐसे ही एक बच्चे के बारे में बताना चाहू...  \n",
              "3      हम ये नहीं कहना चाहते कि वो ध्यान नहीं दे पाते  \n",
              "7    और हम होते कौन हैं यह कहने भी वाले कि वे गलत हैं  \n",
              "13                                   तो वहाँ न्याय है  \n",
              "23                               धीरे धीरे ये सब बदला  \n",
              "26                           उत्पन्न नहीं कि जाती थी.  \n",
              "30       और जैसा आप देख रहे है, ये एल.ई.डी. जल उठेगी।  \n",
              "32    लाईट जलाने के लिए या उनके लिए पानी लाने के लिए,  \n",
              "35                       क्या आप ये कल्पना कर सकते है  "
            ],
            "text/html": [
              "\n",
              "  <div id=\"df-52bd1571-aa2c-4bff-bb78-b7d857de3aaf\">\n",
              "    <div class=\"colab-df-container\">\n",
              "      <div>\n",
              "<style scoped>\n",
              "    .dataframe tbody tr th:only-of-type {\n",
              "        vertical-align: middle;\n",
              "    }\n",
              "\n",
              "    .dataframe tbody tr th {\n",
              "        vertical-align: top;\n",
              "    }\n",
              "\n",
              "    .dataframe thead th {\n",
              "        text-align: right;\n",
              "    }\n",
              "</style>\n",
              "<table border=\"1\" class=\"dataframe\">\n",
              "  <thead>\n",
              "    <tr style=\"text-align: right;\">\n",
              "      <th></th>\n",
              "      <th>source</th>\n",
              "      <th>english_sentence</th>\n",
              "      <th>hindi_sentence</th>\n",
              "    </tr>\n",
              "  </thead>\n",
              "  <tbody>\n",
              "    <tr>\n",
              "      <th>0</th>\n",
              "      <td>ted</td>\n",
              "      <td>politicians do not have permission to do what ...</td>\n",
              "      <td>राजनीतिज्ञों के पास जो कार्य करना चाहिए, वह कर...</td>\n",
              "    </tr>\n",
              "    <tr>\n",
              "      <th>1</th>\n",
              "      <td>ted</td>\n",
              "      <td>I'd like to tell you about one such child,</td>\n",
              "      <td>मई आपको ऐसे ही एक बच्चे के बारे में बताना चाहू...</td>\n",
              "    </tr>\n",
              "    <tr>\n",
              "      <th>3</th>\n",
              "      <td>ted</td>\n",
              "      <td>what we really mean is that they're bad at not...</td>\n",
              "      <td>हम ये नहीं कहना चाहते कि वो ध्यान नहीं दे पाते</td>\n",
              "    </tr>\n",
              "    <tr>\n",
              "      <th>7</th>\n",
              "      <td>ted</td>\n",
              "      <td>And who are we to say, even, that they are wrong</td>\n",
              "      <td>और हम होते कौन हैं यह कहने भी वाले कि वे गलत हैं</td>\n",
              "    </tr>\n",
              "    <tr>\n",
              "      <th>13</th>\n",
              "      <td>ted</td>\n",
              "      <td>So there is some sort of justice</td>\n",
              "      <td>तो वहाँ न्याय है</td>\n",
              "    </tr>\n",
              "    <tr>\n",
              "      <th>23</th>\n",
              "      <td>ted</td>\n",
              "      <td>This changed slowly</td>\n",
              "      <td>धीरे धीरे ये सब बदला</td>\n",
              "    </tr>\n",
              "    <tr>\n",
              "      <th>26</th>\n",
              "      <td>ted</td>\n",
              "      <td>were being produced.</td>\n",
              "      <td>उत्पन्न नहीं कि जाती थी.</td>\n",
              "    </tr>\n",
              "    <tr>\n",
              "      <th>30</th>\n",
              "      <td>ted</td>\n",
              "      <td>And you can see, this LED is going to glow.</td>\n",
              "      <td>और जैसा आप देख रहे है, ये एल.ई.डी. जल उठेगी।</td>\n",
              "    </tr>\n",
              "    <tr>\n",
              "      <th>32</th>\n",
              "      <td>ted</td>\n",
              "      <td>to turn on the lights or to bring him a glass ...</td>\n",
              "      <td>लाईट जलाने के लिए या उनके लिए पानी लाने के लिए,</td>\n",
              "    </tr>\n",
              "    <tr>\n",
              "      <th>35</th>\n",
              "      <td>ted</td>\n",
              "      <td>Can you imagine saying that?</td>\n",
              "      <td>क्या आप ये कल्पना कर सकते है</td>\n",
              "    </tr>\n",
              "  </tbody>\n",
              "</table>\n",
              "</div>\n",
              "      <button class=\"colab-df-convert\" onclick=\"convertToInteractive('df-52bd1571-aa2c-4bff-bb78-b7d857de3aaf')\"\n",
              "              title=\"Convert this dataframe to an interactive table.\"\n",
              "              style=\"display:none;\">\n",
              "        \n",
              "  <svg xmlns=\"http://www.w3.org/2000/svg\" height=\"24px\"viewBox=\"0 0 24 24\"\n",
              "       width=\"24px\">\n",
              "    <path d=\"M0 0h24v24H0V0z\" fill=\"none\"/>\n",
              "    <path d=\"M18.56 5.44l.94 2.06.94-2.06 2.06-.94-2.06-.94-.94-2.06-.94 2.06-2.06.94zm-11 1L8.5 8.5l.94-2.06 2.06-.94-2.06-.94L8.5 2.5l-.94 2.06-2.06.94zm10 10l.94 2.06.94-2.06 2.06-.94-2.06-.94-.94-2.06-.94 2.06-2.06.94z\"/><path d=\"M17.41 7.96l-1.37-1.37c-.4-.4-.92-.59-1.43-.59-.52 0-1.04.2-1.43.59L10.3 9.45l-7.72 7.72c-.78.78-.78 2.05 0 2.83L4 21.41c.39.39.9.59 1.41.59.51 0 1.02-.2 1.41-.59l7.78-7.78 2.81-2.81c.8-.78.8-2.07 0-2.86zM5.41 20L4 18.59l7.72-7.72 1.47 1.35L5.41 20z\"/>\n",
              "  </svg>\n",
              "      </button>\n",
              "      \n",
              "  <style>\n",
              "    .colab-df-container {\n",
              "      display:flex;\n",
              "      flex-wrap:wrap;\n",
              "      gap: 12px;\n",
              "    }\n",
              "\n",
              "    .colab-df-convert {\n",
              "      background-color: #E8F0FE;\n",
              "      border: none;\n",
              "      border-radius: 50%;\n",
              "      cursor: pointer;\n",
              "      display: none;\n",
              "      fill: #1967D2;\n",
              "      height: 32px;\n",
              "      padding: 0 0 0 0;\n",
              "      width: 32px;\n",
              "    }\n",
              "\n",
              "    .colab-df-convert:hover {\n",
              "      background-color: #E2EBFA;\n",
              "      box-shadow: 0px 1px 2px rgba(60, 64, 67, 0.3), 0px 1px 3px 1px rgba(60, 64, 67, 0.15);\n",
              "      fill: #174EA6;\n",
              "    }\n",
              "\n",
              "    [theme=dark] .colab-df-convert {\n",
              "      background-color: #3B4455;\n",
              "      fill: #D2E3FC;\n",
              "    }\n",
              "\n",
              "    [theme=dark] .colab-df-convert:hover {\n",
              "      background-color: #434B5C;\n",
              "      box-shadow: 0px 1px 3px 1px rgba(0, 0, 0, 0.15);\n",
              "      filter: drop-shadow(0px 1px 2px rgba(0, 0, 0, 0.3));\n",
              "      fill: #FFFFFF;\n",
              "    }\n",
              "  </style>\n",
              "\n",
              "      <script>\n",
              "        const buttonEl =\n",
              "          document.querySelector('#df-52bd1571-aa2c-4bff-bb78-b7d857de3aaf button.colab-df-convert');\n",
              "        buttonEl.style.display =\n",
              "          google.colab.kernel.accessAllowed ? 'block' : 'none';\n",
              "\n",
              "        async function convertToInteractive(key) {\n",
              "          const element = document.querySelector('#df-52bd1571-aa2c-4bff-bb78-b7d857de3aaf');\n",
              "          const dataTable =\n",
              "            await google.colab.kernel.invokeFunction('convertToInteractive',\n",
              "                                                     [key], {});\n",
              "          if (!dataTable) return;\n",
              "\n",
              "          const docLinkHtml = 'Like what you see? Visit the ' +\n",
              "            '<a target=\"_blank\" href=https://colab.research.google.com/notebooks/data_table.ipynb>data table notebook</a>'\n",
              "            + ' to learn more about interactive tables.';\n",
              "          element.innerHTML = '';\n",
              "          dataTable['output_type'] = 'display_data';\n",
              "          await google.colab.output.renderOutput(dataTable, element);\n",
              "          const docLink = document.createElement('div');\n",
              "          docLink.innerHTML = docLinkHtml;\n",
              "          element.appendChild(docLink);\n",
              "        }\n",
              "      </script>\n",
              "    </div>\n",
              "  </div>\n",
              "  "
            ]
          },
          "metadata": {},
          "execution_count": 6
        }
      ],
      "source": [
        "lines = lines[lines['source'] == 'ted']\n",
        "lines.head(10)"
      ]
    },
    {
      "cell_type": "code",
      "execution_count": 7,
      "metadata": {
        "id": "UWUF8i3eNBNG",
        "colab": {
          "base_uri": "https://localhost:8080/"
        },
        "outputId": "f3baa0b6-982b-42f1-f235-5b3704c179b6"
      },
      "outputs": [
        {
          "output_type": "execute_result",
          "data": {
            "text/plain": [
              "(39881, 2)"
            ]
          },
          "metadata": {},
          "execution_count": 7
        }
      ],
      "source": [
        "lines.drop(columns = ['source'], inplace = True)\n",
        "lines.shape"
      ]
    },
    {
      "cell_type": "code",
      "execution_count": 8,
      "metadata": {
        "id": "8Y7POK6xYn3r"
      },
      "outputs": [],
      "source": [
        "lines.reset_index(inplace = True)\n",
        "lines.drop(columns = ['index'], inplace = True)"
      ]
    },
    {
      "cell_type": "code",
      "execution_count": 9,
      "metadata": {
        "id": "OmpewEf60IGd",
        "colab": {
          "base_uri": "https://localhost:8080/"
        },
        "outputId": "2256d44f-a7fa-46e2-a4e5-eb0f422d47ff"
      },
      "outputs": [
        {
          "output_type": "execute_result",
          "data": {
            "text/plain": [
              "english_sentence    0\n",
              "hindi_sentence      0\n",
              "dtype: int64"
            ]
          },
          "metadata": {},
          "execution_count": 9
        }
      ],
      "source": [
        "pd.isnull(lines).sum()"
      ]
    },
    {
      "cell_type": "code",
      "execution_count": 10,
      "metadata": {
        "id": "EbHkhHLk8_S0",
        "colab": {
          "base_uri": "https://localhost:8080/"
        },
        "outputId": "f79a482f-a6fc-4ee0-f998-52298d1b2f55"
      },
      "outputs": [
        {
          "output_type": "execute_result",
          "data": {
            "text/plain": [
              "(38803, 2)"
            ]
          },
          "metadata": {},
          "execution_count": 10
        }
      ],
      "source": [
        "lines.drop_duplicates(inplace=True)\n",
        "lines.shape"
      ]
    },
    {
      "cell_type": "code",
      "execution_count": 11,
      "metadata": {
        "id": "jLLZJ7tdX_38",
        "colab": {
          "base_uri": "https://localhost:8080/",
          "height": 206
        },
        "outputId": "951f88a8-5fc6-4cd7-a85f-7a86ee87a007"
      },
      "outputs": [
        {
          "output_type": "execute_result",
          "data": {
            "text/plain": [
              "                                    english_sentence  \\\n",
              "0  politicians do not have permission to do what ...   \n",
              "1         I'd like to tell you about one such child,   \n",
              "2  what we really mean is that they're bad at not...   \n",
              "3   And who are we to say, even, that they are wrong   \n",
              "4                   So there is some sort of justice   \n",
              "\n",
              "                                      hindi_sentence  \n",
              "0  राजनीतिज्ञों के पास जो कार्य करना चाहिए, वह कर...  \n",
              "1  मई आपको ऐसे ही एक बच्चे के बारे में बताना चाहू...  \n",
              "2     हम ये नहीं कहना चाहते कि वो ध्यान नहीं दे पाते  \n",
              "3   और हम होते कौन हैं यह कहने भी वाले कि वे गलत हैं  \n",
              "4                                   तो वहाँ न्याय है  "
            ],
            "text/html": [
              "\n",
              "  <div id=\"df-f6dd1d03-0d55-4a7f-8607-640be98ea7fa\">\n",
              "    <div class=\"colab-df-container\">\n",
              "      <div>\n",
              "<style scoped>\n",
              "    .dataframe tbody tr th:only-of-type {\n",
              "        vertical-align: middle;\n",
              "    }\n",
              "\n",
              "    .dataframe tbody tr th {\n",
              "        vertical-align: top;\n",
              "    }\n",
              "\n",
              "    .dataframe thead th {\n",
              "        text-align: right;\n",
              "    }\n",
              "</style>\n",
              "<table border=\"1\" class=\"dataframe\">\n",
              "  <thead>\n",
              "    <tr style=\"text-align: right;\">\n",
              "      <th></th>\n",
              "      <th>english_sentence</th>\n",
              "      <th>hindi_sentence</th>\n",
              "    </tr>\n",
              "  </thead>\n",
              "  <tbody>\n",
              "    <tr>\n",
              "      <th>0</th>\n",
              "      <td>politicians do not have permission to do what ...</td>\n",
              "      <td>राजनीतिज्ञों के पास जो कार्य करना चाहिए, वह कर...</td>\n",
              "    </tr>\n",
              "    <tr>\n",
              "      <th>1</th>\n",
              "      <td>I'd like to tell you about one such child,</td>\n",
              "      <td>मई आपको ऐसे ही एक बच्चे के बारे में बताना चाहू...</td>\n",
              "    </tr>\n",
              "    <tr>\n",
              "      <th>2</th>\n",
              "      <td>what we really mean is that they're bad at not...</td>\n",
              "      <td>हम ये नहीं कहना चाहते कि वो ध्यान नहीं दे पाते</td>\n",
              "    </tr>\n",
              "    <tr>\n",
              "      <th>3</th>\n",
              "      <td>And who are we to say, even, that they are wrong</td>\n",
              "      <td>और हम होते कौन हैं यह कहने भी वाले कि वे गलत हैं</td>\n",
              "    </tr>\n",
              "    <tr>\n",
              "      <th>4</th>\n",
              "      <td>So there is some sort of justice</td>\n",
              "      <td>तो वहाँ न्याय है</td>\n",
              "    </tr>\n",
              "  </tbody>\n",
              "</table>\n",
              "</div>\n",
              "      <button class=\"colab-df-convert\" onclick=\"convertToInteractive('df-f6dd1d03-0d55-4a7f-8607-640be98ea7fa')\"\n",
              "              title=\"Convert this dataframe to an interactive table.\"\n",
              "              style=\"display:none;\">\n",
              "        \n",
              "  <svg xmlns=\"http://www.w3.org/2000/svg\" height=\"24px\"viewBox=\"0 0 24 24\"\n",
              "       width=\"24px\">\n",
              "    <path d=\"M0 0h24v24H0V0z\" fill=\"none\"/>\n",
              "    <path d=\"M18.56 5.44l.94 2.06.94-2.06 2.06-.94-2.06-.94-.94-2.06-.94 2.06-2.06.94zm-11 1L8.5 8.5l.94-2.06 2.06-.94-2.06-.94L8.5 2.5l-.94 2.06-2.06.94zm10 10l.94 2.06.94-2.06 2.06-.94-2.06-.94-.94-2.06-.94 2.06-2.06.94z\"/><path d=\"M17.41 7.96l-1.37-1.37c-.4-.4-.92-.59-1.43-.59-.52 0-1.04.2-1.43.59L10.3 9.45l-7.72 7.72c-.78.78-.78 2.05 0 2.83L4 21.41c.39.39.9.59 1.41.59.51 0 1.02-.2 1.41-.59l7.78-7.78 2.81-2.81c.8-.78.8-2.07 0-2.86zM5.41 20L4 18.59l7.72-7.72 1.47 1.35L5.41 20z\"/>\n",
              "  </svg>\n",
              "      </button>\n",
              "      \n",
              "  <style>\n",
              "    .colab-df-container {\n",
              "      display:flex;\n",
              "      flex-wrap:wrap;\n",
              "      gap: 12px;\n",
              "    }\n",
              "\n",
              "    .colab-df-convert {\n",
              "      background-color: #E8F0FE;\n",
              "      border: none;\n",
              "      border-radius: 50%;\n",
              "      cursor: pointer;\n",
              "      display: none;\n",
              "      fill: #1967D2;\n",
              "      height: 32px;\n",
              "      padding: 0 0 0 0;\n",
              "      width: 32px;\n",
              "    }\n",
              "\n",
              "    .colab-df-convert:hover {\n",
              "      background-color: #E2EBFA;\n",
              "      box-shadow: 0px 1px 2px rgba(60, 64, 67, 0.3), 0px 1px 3px 1px rgba(60, 64, 67, 0.15);\n",
              "      fill: #174EA6;\n",
              "    }\n",
              "\n",
              "    [theme=dark] .colab-df-convert {\n",
              "      background-color: #3B4455;\n",
              "      fill: #D2E3FC;\n",
              "    }\n",
              "\n",
              "    [theme=dark] .colab-df-convert:hover {\n",
              "      background-color: #434B5C;\n",
              "      box-shadow: 0px 1px 3px 1px rgba(0, 0, 0, 0.15);\n",
              "      filter: drop-shadow(0px 1px 2px rgba(0, 0, 0, 0.3));\n",
              "      fill: #FFFFFF;\n",
              "    }\n",
              "  </style>\n",
              "\n",
              "      <script>\n",
              "        const buttonEl =\n",
              "          document.querySelector('#df-f6dd1d03-0d55-4a7f-8607-640be98ea7fa button.colab-df-convert');\n",
              "        buttonEl.style.display =\n",
              "          google.colab.kernel.accessAllowed ? 'block' : 'none';\n",
              "\n",
              "        async function convertToInteractive(key) {\n",
              "          const element = document.querySelector('#df-f6dd1d03-0d55-4a7f-8607-640be98ea7fa');\n",
              "          const dataTable =\n",
              "            await google.colab.kernel.invokeFunction('convertToInteractive',\n",
              "                                                     [key], {});\n",
              "          if (!dataTable) return;\n",
              "\n",
              "          const docLinkHtml = 'Like what you see? Visit the ' +\n",
              "            '<a target=\"_blank\" href=https://colab.research.google.com/notebooks/data_table.ipynb>data table notebook</a>'\n",
              "            + ' to learn more about interactive tables.';\n",
              "          element.innerHTML = '';\n",
              "          dataTable['output_type'] = 'display_data';\n",
              "          await google.colab.output.renderOutput(dataTable, element);\n",
              "          const docLink = document.createElement('div');\n",
              "          docLink.innerHTML = docLinkHtml;\n",
              "          element.appendChild(docLink);\n",
              "        }\n",
              "      </script>\n",
              "    </div>\n",
              "  </div>\n",
              "  "
            ]
          },
          "metadata": {},
          "execution_count": 11
        }
      ],
      "source": [
        "lines.head()"
      ]
    },
    {
      "cell_type": "code",
      "execution_count": 12,
      "metadata": {
        "id": "vtTASV7GHewD"
      },
      "outputs": [],
      "source": [
        "# Make all english letters lowercase\n",
        "lines['english_sentence'] = lines['english_sentence'].apply(lambda x: x.lower())\n",
        "\n",
        "# Remove the quotes\n",
        "lines['english_sentence'] = lines['english_sentence'].apply(lambda x: re.sub(\"'\", '', x))\n",
        "lines['hindi_sentence'] = lines['hindi_sentence'].apply(lambda x: re.sub(\"'\", '', x))\n",
        "\n",
        "# Remove special characters\n",
        "sp_char = set(string.punctuation)\n",
        "lines['english_sentence'] = lines['english_sentence'].apply(lambda x: ''.join(ch for ch in x if ch not in sp_char))\n",
        "lines['hindi_sentence'] = lines['hindi_sentence'].apply(lambda x: ''.join(ch for ch in x if ch not in sp_char))"
      ]
    },
    {
      "cell_type": "code",
      "execution_count": 13,
      "metadata": {
        "id": "KfuxP2pXYO9E"
      },
      "outputs": [],
      "source": [
        "# Remove extra spaces\n",
        "lines['english_sentence']=lines['english_sentence'].apply(lambda x: x.strip())\n",
        "lines['hindi_sentence']=lines['hindi_sentence'].apply(lambda x: x.strip())\n",
        "lines['english_sentence']=lines['english_sentence'].apply(lambda x: re.sub(\" +\", \" \", x))\n",
        "lines['hindi_sentence']=lines['hindi_sentence'].apply(lambda x: re.sub(\" +\", \" \", x))"
      ]
    },
    {
      "cell_type": "code",
      "execution_count": 14,
      "metadata": {
        "id": "RJZsWTHZnlY1"
      },
      "outputs": [],
      "source": [
        "# Add START and END tokens to the beginning and end of the target sequence\n",
        "lines['hindi_sentence'] = lines['hindi_sentence'].apply(lambda x: 'START_ ' + x + ' _END')"
      ]
    },
    {
      "cell_type": "code",
      "execution_count": 15,
      "metadata": {
        "id": "O1jcj84GLMVM",
        "colab": {
          "base_uri": "https://localhost:8080/",
          "height": 206
        },
        "outputId": "f6d2fbf8-24a8-42b1-93fc-ef443246bde8"
      },
      "outputs": [
        {
          "output_type": "execute_result",
          "data": {
            "text/plain": [
              "                                    english_sentence  \\\n",
              "0  politicians do not have permission to do what ...   \n",
              "1           id like to tell you about one such child   \n",
              "2  what we really mean is that theyre bad at not ...   \n",
              "3     and who are we to say even that they are wrong   \n",
              "4                   so there is some sort of justice   \n",
              "\n",
              "                                      hindi_sentence  \n",
              "0  START_ राजनीतिज्ञों के पास जो कार्य करना चाहिए...  \n",
              "1  START_ मई आपको ऐसे ही एक बच्चे के बारे में बता...  \n",
              "2  START_ हम ये नहीं कहना चाहते कि वो ध्यान नहीं ...  \n",
              "3  START_ और हम होते कौन हैं यह कहने भी वाले कि व...  \n",
              "4                       START_ तो वहाँ न्याय है _END  "
            ],
            "text/html": [
              "\n",
              "  <div id=\"df-3bed0321-b650-4b7a-b6d2-2244479858d2\">\n",
              "    <div class=\"colab-df-container\">\n",
              "      <div>\n",
              "<style scoped>\n",
              "    .dataframe tbody tr th:only-of-type {\n",
              "        vertical-align: middle;\n",
              "    }\n",
              "\n",
              "    .dataframe tbody tr th {\n",
              "        vertical-align: top;\n",
              "    }\n",
              "\n",
              "    .dataframe thead th {\n",
              "        text-align: right;\n",
              "    }\n",
              "</style>\n",
              "<table border=\"1\" class=\"dataframe\">\n",
              "  <thead>\n",
              "    <tr style=\"text-align: right;\">\n",
              "      <th></th>\n",
              "      <th>english_sentence</th>\n",
              "      <th>hindi_sentence</th>\n",
              "    </tr>\n",
              "  </thead>\n",
              "  <tbody>\n",
              "    <tr>\n",
              "      <th>0</th>\n",
              "      <td>politicians do not have permission to do what ...</td>\n",
              "      <td>START_ राजनीतिज्ञों के पास जो कार्य करना चाहिए...</td>\n",
              "    </tr>\n",
              "    <tr>\n",
              "      <th>1</th>\n",
              "      <td>id like to tell you about one such child</td>\n",
              "      <td>START_ मई आपको ऐसे ही एक बच्चे के बारे में बता...</td>\n",
              "    </tr>\n",
              "    <tr>\n",
              "      <th>2</th>\n",
              "      <td>what we really mean is that theyre bad at not ...</td>\n",
              "      <td>START_ हम ये नहीं कहना चाहते कि वो ध्यान नहीं ...</td>\n",
              "    </tr>\n",
              "    <tr>\n",
              "      <th>3</th>\n",
              "      <td>and who are we to say even that they are wrong</td>\n",
              "      <td>START_ और हम होते कौन हैं यह कहने भी वाले कि व...</td>\n",
              "    </tr>\n",
              "    <tr>\n",
              "      <th>4</th>\n",
              "      <td>so there is some sort of justice</td>\n",
              "      <td>START_ तो वहाँ न्याय है _END</td>\n",
              "    </tr>\n",
              "  </tbody>\n",
              "</table>\n",
              "</div>\n",
              "      <button class=\"colab-df-convert\" onclick=\"convertToInteractive('df-3bed0321-b650-4b7a-b6d2-2244479858d2')\"\n",
              "              title=\"Convert this dataframe to an interactive table.\"\n",
              "              style=\"display:none;\">\n",
              "        \n",
              "  <svg xmlns=\"http://www.w3.org/2000/svg\" height=\"24px\"viewBox=\"0 0 24 24\"\n",
              "       width=\"24px\">\n",
              "    <path d=\"M0 0h24v24H0V0z\" fill=\"none\"/>\n",
              "    <path d=\"M18.56 5.44l.94 2.06.94-2.06 2.06-.94-2.06-.94-.94-2.06-.94 2.06-2.06.94zm-11 1L8.5 8.5l.94-2.06 2.06-.94-2.06-.94L8.5 2.5l-.94 2.06-2.06.94zm10 10l.94 2.06.94-2.06 2.06-.94-2.06-.94-.94-2.06-.94 2.06-2.06.94z\"/><path d=\"M17.41 7.96l-1.37-1.37c-.4-.4-.92-.59-1.43-.59-.52 0-1.04.2-1.43.59L10.3 9.45l-7.72 7.72c-.78.78-.78 2.05 0 2.83L4 21.41c.39.39.9.59 1.41.59.51 0 1.02-.2 1.41-.59l7.78-7.78 2.81-2.81c.8-.78.8-2.07 0-2.86zM5.41 20L4 18.59l7.72-7.72 1.47 1.35L5.41 20z\"/>\n",
              "  </svg>\n",
              "      </button>\n",
              "      \n",
              "  <style>\n",
              "    .colab-df-container {\n",
              "      display:flex;\n",
              "      flex-wrap:wrap;\n",
              "      gap: 12px;\n",
              "    }\n",
              "\n",
              "    .colab-df-convert {\n",
              "      background-color: #E8F0FE;\n",
              "      border: none;\n",
              "      border-radius: 50%;\n",
              "      cursor: pointer;\n",
              "      display: none;\n",
              "      fill: #1967D2;\n",
              "      height: 32px;\n",
              "      padding: 0 0 0 0;\n",
              "      width: 32px;\n",
              "    }\n",
              "\n",
              "    .colab-df-convert:hover {\n",
              "      background-color: #E2EBFA;\n",
              "      box-shadow: 0px 1px 2px rgba(60, 64, 67, 0.3), 0px 1px 3px 1px rgba(60, 64, 67, 0.15);\n",
              "      fill: #174EA6;\n",
              "    }\n",
              "\n",
              "    [theme=dark] .colab-df-convert {\n",
              "      background-color: #3B4455;\n",
              "      fill: #D2E3FC;\n",
              "    }\n",
              "\n",
              "    [theme=dark] .colab-df-convert:hover {\n",
              "      background-color: #434B5C;\n",
              "      box-shadow: 0px 1px 3px 1px rgba(0, 0, 0, 0.15);\n",
              "      filter: drop-shadow(0px 1px 2px rgba(0, 0, 0, 0.3));\n",
              "      fill: #FFFFFF;\n",
              "    }\n",
              "  </style>\n",
              "\n",
              "      <script>\n",
              "        const buttonEl =\n",
              "          document.querySelector('#df-3bed0321-b650-4b7a-b6d2-2244479858d2 button.colab-df-convert');\n",
              "        buttonEl.style.display =\n",
              "          google.colab.kernel.accessAllowed ? 'block' : 'none';\n",
              "\n",
              "        async function convertToInteractive(key) {\n",
              "          const element = document.querySelector('#df-3bed0321-b650-4b7a-b6d2-2244479858d2');\n",
              "          const dataTable =\n",
              "            await google.colab.kernel.invokeFunction('convertToInteractive',\n",
              "                                                     [key], {});\n",
              "          if (!dataTable) return;\n",
              "\n",
              "          const docLinkHtml = 'Like what you see? Visit the ' +\n",
              "            '<a target=\"_blank\" href=https://colab.research.google.com/notebooks/data_table.ipynb>data table notebook</a>'\n",
              "            + ' to learn more about interactive tables.';\n",
              "          element.innerHTML = '';\n",
              "          dataTable['output_type'] = 'display_data';\n",
              "          await google.colab.output.renderOutput(dataTable, element);\n",
              "          const docLink = document.createElement('div');\n",
              "          docLink.innerHTML = docLinkHtml;\n",
              "          element.appendChild(docLink);\n",
              "        }\n",
              "      </script>\n",
              "    </div>\n",
              "  </div>\n",
              "  "
            ]
          },
          "metadata": {},
          "execution_count": 15
        }
      ],
      "source": [
        "lines.head()"
      ]
    },
    {
      "cell_type": "code",
      "execution_count": 16,
      "metadata": {
        "id": "6tOma5CQYl8X",
        "colab": {
          "base_uri": "https://localhost:8080/",
          "height": 206
        },
        "outputId": "db46aef2-51d0-4293-98ab-c36115d64a23"
      },
      "outputs": [
        {
          "output_type": "execute_result",
          "data": {
            "text/plain": [
              "                                    english_sentence  \\\n",
              "0  they picked up these photographs from the fore...   \n",
              "1                     and after a few months went by   \n",
              "2                 really small photos just that size   \n",
              "3  so having experimented in all sorts of remote ...   \n",
              "4              that very early on into her treatment   \n",
              "\n",
              "                                      hindi_sentence  \n",
              "0  START_ उन्होंने जमीन से इन तस्वीरों को उठाया _END  \n",
              "1              START_ और फिर थोड़े महीनो के बाद _END  \n",
              "2            START_ वाकई छोटे फोटो बस इतने बड़े _END  \n",
              "3  START_ तो हर तरह की दूरदराज़ जगहों पर प्रयोग क...  \n",
              "4                   START_ कि इलाज के बहुत पहले _END  "
            ],
            "text/html": [
              "\n",
              "  <div id=\"df-25f078bc-d52f-4188-8fba-c0c1813df9c2\">\n",
              "    <div class=\"colab-df-container\">\n",
              "      <div>\n",
              "<style scoped>\n",
              "    .dataframe tbody tr th:only-of-type {\n",
              "        vertical-align: middle;\n",
              "    }\n",
              "\n",
              "    .dataframe tbody tr th {\n",
              "        vertical-align: top;\n",
              "    }\n",
              "\n",
              "    .dataframe thead th {\n",
              "        text-align: right;\n",
              "    }\n",
              "</style>\n",
              "<table border=\"1\" class=\"dataframe\">\n",
              "  <thead>\n",
              "    <tr style=\"text-align: right;\">\n",
              "      <th></th>\n",
              "      <th>english_sentence</th>\n",
              "      <th>hindi_sentence</th>\n",
              "    </tr>\n",
              "  </thead>\n",
              "  <tbody>\n",
              "    <tr>\n",
              "      <th>0</th>\n",
              "      <td>they picked up these photographs from the fore...</td>\n",
              "      <td>START_ उन्होंने जमीन से इन तस्वीरों को उठाया _END</td>\n",
              "    </tr>\n",
              "    <tr>\n",
              "      <th>1</th>\n",
              "      <td>and after a few months went by</td>\n",
              "      <td>START_ और फिर थोड़े महीनो के बाद _END</td>\n",
              "    </tr>\n",
              "    <tr>\n",
              "      <th>2</th>\n",
              "      <td>really small photos just that size</td>\n",
              "      <td>START_ वाकई छोटे फोटो बस इतने बड़े _END</td>\n",
              "    </tr>\n",
              "    <tr>\n",
              "      <th>3</th>\n",
              "      <td>so having experimented in all sorts of remote ...</td>\n",
              "      <td>START_ तो हर तरह की दूरदराज़ जगहों पर प्रयोग क...</td>\n",
              "    </tr>\n",
              "    <tr>\n",
              "      <th>4</th>\n",
              "      <td>that very early on into her treatment</td>\n",
              "      <td>START_ कि इलाज के बहुत पहले _END</td>\n",
              "    </tr>\n",
              "  </tbody>\n",
              "</table>\n",
              "</div>\n",
              "      <button class=\"colab-df-convert\" onclick=\"convertToInteractive('df-25f078bc-d52f-4188-8fba-c0c1813df9c2')\"\n",
              "              title=\"Convert this dataframe to an interactive table.\"\n",
              "              style=\"display:none;\">\n",
              "        \n",
              "  <svg xmlns=\"http://www.w3.org/2000/svg\" height=\"24px\"viewBox=\"0 0 24 24\"\n",
              "       width=\"24px\">\n",
              "    <path d=\"M0 0h24v24H0V0z\" fill=\"none\"/>\n",
              "    <path d=\"M18.56 5.44l.94 2.06.94-2.06 2.06-.94-2.06-.94-.94-2.06-.94 2.06-2.06.94zm-11 1L8.5 8.5l.94-2.06 2.06-.94-2.06-.94L8.5 2.5l-.94 2.06-2.06.94zm10 10l.94 2.06.94-2.06 2.06-.94-2.06-.94-.94-2.06-.94 2.06-2.06.94z\"/><path d=\"M17.41 7.96l-1.37-1.37c-.4-.4-.92-.59-1.43-.59-.52 0-1.04.2-1.43.59L10.3 9.45l-7.72 7.72c-.78.78-.78 2.05 0 2.83L4 21.41c.39.39.9.59 1.41.59.51 0 1.02-.2 1.41-.59l7.78-7.78 2.81-2.81c.8-.78.8-2.07 0-2.86zM5.41 20L4 18.59l7.72-7.72 1.47 1.35L5.41 20z\"/>\n",
              "  </svg>\n",
              "      </button>\n",
              "      \n",
              "  <style>\n",
              "    .colab-df-container {\n",
              "      display:flex;\n",
              "      flex-wrap:wrap;\n",
              "      gap: 12px;\n",
              "    }\n",
              "\n",
              "    .colab-df-convert {\n",
              "      background-color: #E8F0FE;\n",
              "      border: none;\n",
              "      border-radius: 50%;\n",
              "      cursor: pointer;\n",
              "      display: none;\n",
              "      fill: #1967D2;\n",
              "      height: 32px;\n",
              "      padding: 0 0 0 0;\n",
              "      width: 32px;\n",
              "    }\n",
              "\n",
              "    .colab-df-convert:hover {\n",
              "      background-color: #E2EBFA;\n",
              "      box-shadow: 0px 1px 2px rgba(60, 64, 67, 0.3), 0px 1px 3px 1px rgba(60, 64, 67, 0.15);\n",
              "      fill: #174EA6;\n",
              "    }\n",
              "\n",
              "    [theme=dark] .colab-df-convert {\n",
              "      background-color: #3B4455;\n",
              "      fill: #D2E3FC;\n",
              "    }\n",
              "\n",
              "    [theme=dark] .colab-df-convert:hover {\n",
              "      background-color: #434B5C;\n",
              "      box-shadow: 0px 1px 3px 1px rgba(0, 0, 0, 0.15);\n",
              "      filter: drop-shadow(0px 1px 2px rgba(0, 0, 0, 0.3));\n",
              "      fill: #FFFFFF;\n",
              "    }\n",
              "  </style>\n",
              "\n",
              "      <script>\n",
              "        const buttonEl =\n",
              "          document.querySelector('#df-25f078bc-d52f-4188-8fba-c0c1813df9c2 button.colab-df-convert');\n",
              "        buttonEl.style.display =\n",
              "          google.colab.kernel.accessAllowed ? 'block' : 'none';\n",
              "\n",
              "        async function convertToInteractive(key) {\n",
              "          const element = document.querySelector('#df-25f078bc-d52f-4188-8fba-c0c1813df9c2');\n",
              "          const dataTable =\n",
              "            await google.colab.kernel.invokeFunction('convertToInteractive',\n",
              "                                                     [key], {});\n",
              "          if (!dataTable) return;\n",
              "\n",
              "          const docLinkHtml = 'Like what you see? Visit the ' +\n",
              "            '<a target=\"_blank\" href=https://colab.research.google.com/notebooks/data_table.ipynb>data table notebook</a>'\n",
              "            + ' to learn more about interactive tables.';\n",
              "          element.innerHTML = '';\n",
              "          dataTable['output_type'] = 'display_data';\n",
              "          await google.colab.output.renderOutput(dataTable, element);\n",
              "          const docLink = document.createElement('div');\n",
              "          docLink.innerHTML = docLinkHtml;\n",
              "          element.appendChild(docLink);\n",
              "        }\n",
              "      </script>\n",
              "    </div>\n",
              "  </div>\n",
              "  "
            ]
          },
          "metadata": {},
          "execution_count": 16
        }
      ],
      "source": [
        "lines = lines.sample(frac = 1).reset_index(drop = True)\n",
        "lines.head()"
      ]
    },
    {
      "cell_type": "markdown",
      "metadata": {
        "id": "sQY65UsEYO-h"
      },
      "source": [
        "# Tokenizing the data"
      ]
    },
    {
      "cell_type": "code",
      "execution_count": 17,
      "metadata": {
        "id": "z6Gh2jx0YO-j"
      },
      "outputs": [],
      "source": [
        "en = set()\n",
        "for sentence in lines['english_sentence']:\n",
        "    for word in sentence.split():\n",
        "        if word not in en:\n",
        "            en.add(word)\n",
        "\n",
        "hi = set()\n",
        "for sentence in lines['hindi_sentence']:\n",
        "    for word in sentence.split():\n",
        "        if word not in hi:\n",
        "            hi.add(word)"
      ]
    },
    {
      "cell_type": "code",
      "execution_count": 18,
      "metadata": {
        "colab": {
          "base_uri": "https://localhost:8080/"
        },
        "id": "KV8sLvrnYO-k",
        "outputId": "87a1833c-aeab-44b4-811a-50cc1143b035"
      },
      "outputs": [
        {
          "output_type": "stream",
          "name": "stdout",
          "text": [
            "Unique words in English are :  17759\n",
            "Unique words in Hindi are :  22782\n"
          ]
        }
      ],
      "source": [
        "print('Unique words in English are : ', len(en))\n",
        "print('Unique words in Hindi are : ', len(hi))"
      ]
    },
    {
      "cell_type": "code",
      "execution_count": 19,
      "metadata": {
        "colab": {
          "base_uri": "https://localhost:8080/",
          "height": 206
        },
        "id": "NBF2-ex1YO-m",
        "outputId": "12e90d91-f677-43be-fa97-f10d93a859ab"
      },
      "outputs": [
        {
          "output_type": "execute_result",
          "data": {
            "text/plain": [
              "                                    english_sentence  \\\n",
              "0  they picked up these photographs from the fore...   \n",
              "1                     and after a few months went by   \n",
              "2                 really small photos just that size   \n",
              "3  so having experimented in all sorts of remote ...   \n",
              "4              that very early on into her treatment   \n",
              "\n",
              "                                      hindi_sentence  length_en  length_hi  \n",
              "0  START_ उन्होंने जमीन से इन तस्वीरों को उठाया _END          9          9  \n",
              "1              START_ और फिर थोड़े महीनो के बाद _END          7          8  \n",
              "2            START_ वाकई छोटे फोटो बस इतने बड़े _END          6          8  \n",
              "3  START_ तो हर तरह की दूरदराज़ जगहों पर प्रयोग क...          9         13  \n",
              "4                   START_ कि इलाज के बहुत पहले _END          7          7  "
            ],
            "text/html": [
              "\n",
              "  <div id=\"df-e5319d05-84dd-41bd-8a6a-dcbbe0ae8b78\">\n",
              "    <div class=\"colab-df-container\">\n",
              "      <div>\n",
              "<style scoped>\n",
              "    .dataframe tbody tr th:only-of-type {\n",
              "        vertical-align: middle;\n",
              "    }\n",
              "\n",
              "    .dataframe tbody tr th {\n",
              "        vertical-align: top;\n",
              "    }\n",
              "\n",
              "    .dataframe thead th {\n",
              "        text-align: right;\n",
              "    }\n",
              "</style>\n",
              "<table border=\"1\" class=\"dataframe\">\n",
              "  <thead>\n",
              "    <tr style=\"text-align: right;\">\n",
              "      <th></th>\n",
              "      <th>english_sentence</th>\n",
              "      <th>hindi_sentence</th>\n",
              "      <th>length_en</th>\n",
              "      <th>length_hi</th>\n",
              "    </tr>\n",
              "  </thead>\n",
              "  <tbody>\n",
              "    <tr>\n",
              "      <th>0</th>\n",
              "      <td>they picked up these photographs from the fore...</td>\n",
              "      <td>START_ उन्होंने जमीन से इन तस्वीरों को उठाया _END</td>\n",
              "      <td>9</td>\n",
              "      <td>9</td>\n",
              "    </tr>\n",
              "    <tr>\n",
              "      <th>1</th>\n",
              "      <td>and after a few months went by</td>\n",
              "      <td>START_ और फिर थोड़े महीनो के बाद _END</td>\n",
              "      <td>7</td>\n",
              "      <td>8</td>\n",
              "    </tr>\n",
              "    <tr>\n",
              "      <th>2</th>\n",
              "      <td>really small photos just that size</td>\n",
              "      <td>START_ वाकई छोटे फोटो बस इतने बड़े _END</td>\n",
              "      <td>6</td>\n",
              "      <td>8</td>\n",
              "    </tr>\n",
              "    <tr>\n",
              "      <th>3</th>\n",
              "      <td>so having experimented in all sorts of remote ...</td>\n",
              "      <td>START_ तो हर तरह की दूरदराज़ जगहों पर प्रयोग क...</td>\n",
              "      <td>9</td>\n",
              "      <td>13</td>\n",
              "    </tr>\n",
              "    <tr>\n",
              "      <th>4</th>\n",
              "      <td>that very early on into her treatment</td>\n",
              "      <td>START_ कि इलाज के बहुत पहले _END</td>\n",
              "      <td>7</td>\n",
              "      <td>7</td>\n",
              "    </tr>\n",
              "  </tbody>\n",
              "</table>\n",
              "</div>\n",
              "      <button class=\"colab-df-convert\" onclick=\"convertToInteractive('df-e5319d05-84dd-41bd-8a6a-dcbbe0ae8b78')\"\n",
              "              title=\"Convert this dataframe to an interactive table.\"\n",
              "              style=\"display:none;\">\n",
              "        \n",
              "  <svg xmlns=\"http://www.w3.org/2000/svg\" height=\"24px\"viewBox=\"0 0 24 24\"\n",
              "       width=\"24px\">\n",
              "    <path d=\"M0 0h24v24H0V0z\" fill=\"none\"/>\n",
              "    <path d=\"M18.56 5.44l.94 2.06.94-2.06 2.06-.94-2.06-.94-.94-2.06-.94 2.06-2.06.94zm-11 1L8.5 8.5l.94-2.06 2.06-.94-2.06-.94L8.5 2.5l-.94 2.06-2.06.94zm10 10l.94 2.06.94-2.06 2.06-.94-2.06-.94-.94-2.06-.94 2.06-2.06.94z\"/><path d=\"M17.41 7.96l-1.37-1.37c-.4-.4-.92-.59-1.43-.59-.52 0-1.04.2-1.43.59L10.3 9.45l-7.72 7.72c-.78.78-.78 2.05 0 2.83L4 21.41c.39.39.9.59 1.41.59.51 0 1.02-.2 1.41-.59l7.78-7.78 2.81-2.81c.8-.78.8-2.07 0-2.86zM5.41 20L4 18.59l7.72-7.72 1.47 1.35L5.41 20z\"/>\n",
              "  </svg>\n",
              "      </button>\n",
              "      \n",
              "  <style>\n",
              "    .colab-df-container {\n",
              "      display:flex;\n",
              "      flex-wrap:wrap;\n",
              "      gap: 12px;\n",
              "    }\n",
              "\n",
              "    .colab-df-convert {\n",
              "      background-color: #E8F0FE;\n",
              "      border: none;\n",
              "      border-radius: 50%;\n",
              "      cursor: pointer;\n",
              "      display: none;\n",
              "      fill: #1967D2;\n",
              "      height: 32px;\n",
              "      padding: 0 0 0 0;\n",
              "      width: 32px;\n",
              "    }\n",
              "\n",
              "    .colab-df-convert:hover {\n",
              "      background-color: #E2EBFA;\n",
              "      box-shadow: 0px 1px 2px rgba(60, 64, 67, 0.3), 0px 1px 3px 1px rgba(60, 64, 67, 0.15);\n",
              "      fill: #174EA6;\n",
              "    }\n",
              "\n",
              "    [theme=dark] .colab-df-convert {\n",
              "      background-color: #3B4455;\n",
              "      fill: #D2E3FC;\n",
              "    }\n",
              "\n",
              "    [theme=dark] .colab-df-convert:hover {\n",
              "      background-color: #434B5C;\n",
              "      box-shadow: 0px 1px 3px 1px rgba(0, 0, 0, 0.15);\n",
              "      filter: drop-shadow(0px 1px 2px rgba(0, 0, 0, 0.3));\n",
              "      fill: #FFFFFF;\n",
              "    }\n",
              "  </style>\n",
              "\n",
              "      <script>\n",
              "        const buttonEl =\n",
              "          document.querySelector('#df-e5319d05-84dd-41bd-8a6a-dcbbe0ae8b78 button.colab-df-convert');\n",
              "        buttonEl.style.display =\n",
              "          google.colab.kernel.accessAllowed ? 'block' : 'none';\n",
              "\n",
              "        async function convertToInteractive(key) {\n",
              "          const element = document.querySelector('#df-e5319d05-84dd-41bd-8a6a-dcbbe0ae8b78');\n",
              "          const dataTable =\n",
              "            await google.colab.kernel.invokeFunction('convertToInteractive',\n",
              "                                                     [key], {});\n",
              "          if (!dataTable) return;\n",
              "\n",
              "          const docLinkHtml = 'Like what you see? Visit the ' +\n",
              "            '<a target=\"_blank\" href=https://colab.research.google.com/notebooks/data_table.ipynb>data table notebook</a>'\n",
              "            + ' to learn more about interactive tables.';\n",
              "          element.innerHTML = '';\n",
              "          dataTable['output_type'] = 'display_data';\n",
              "          await google.colab.output.renderOutput(dataTable, element);\n",
              "          const docLink = document.createElement('div');\n",
              "          docLink.innerHTML = docLinkHtml;\n",
              "          element.appendChild(docLink);\n",
              "        }\n",
              "      </script>\n",
              "    </div>\n",
              "  </div>\n",
              "  "
            ]
          },
          "metadata": {},
          "execution_count": 19
        }
      ],
      "source": [
        "lines['length_en'] = lines['english_sentence'].apply(lambda x: len(x.split()))\n",
        "lines['length_hi'] = lines['hindi_sentence'].apply(lambda x: len(x.split()))\n",
        "\n",
        "lines.head()"
      ]
    },
    {
      "cell_type": "code",
      "execution_count": 20,
      "metadata": {
        "colab": {
          "base_uri": "https://localhost:8080/"
        },
        "id": "uBdYEMDCYO-o",
        "outputId": "70c3250d-83f5-47d3-980a-9a39ee01443e"
      },
      "outputs": [
        {
          "output_type": "stream",
          "name": "stdout",
          "text": [
            "(1, 4)\n",
            "(334, 4)\n"
          ]
        }
      ],
      "source": [
        "print(lines[lines['length_en'] > 20].shape)\n",
        "print(lines[lines['length_hi'] > 20].shape)"
      ]
    },
    {
      "cell_type": "code",
      "execution_count": 21,
      "metadata": {
        "colab": {
          "base_uri": "https://localhost:8080/"
        },
        "id": "EleKwN6ZYO-p",
        "outputId": "ecc9b403-03b1-472a-df96-08f33c3609dd"
      },
      "outputs": [
        {
          "output_type": "stream",
          "name": "stdout",
          "text": [
            "(38469, 4)\n"
          ]
        }
      ],
      "source": [
        "lines = lines[lines['length_en'] <= 20]\n",
        "lines = lines[lines['length_hi'] <= 20]\n",
        "print(lines.shape)"
      ]
    },
    {
      "cell_type": "code",
      "execution_count": 22,
      "metadata": {
        "colab": {
          "base_uri": "https://localhost:8080/"
        },
        "id": "ZTgOsAssYO-q",
        "outputId": "51c3acdb-1f9d-4f15-8b05-a91b82c353a3"
      },
      "outputs": [
        {
          "output_type": "stream",
          "name": "stdout",
          "text": [
            "Maximum sequence length of inputs = 20\n",
            "Maximum sequence length of outputs = 20\n"
          ]
        }
      ],
      "source": [
        "print(\"Maximum sequence length of inputs =\", max(lines['length_en']))\n",
        "print(\"Maximum sequence length of outputs =\", max(lines['length_hi']))"
      ]
    },
    {
      "cell_type": "code",
      "execution_count": 23,
      "metadata": {
        "colab": {
          "base_uri": "https://localhost:8080/"
        },
        "id": "o6U7JUwqYO-r",
        "outputId": "1c0a906a-8f52-402a-ca5f-b3221cae7f8a"
      },
      "outputs": [
        {
          "output_type": "execute_result",
          "data": {
            "text/plain": [
              "(17759, 22782)"
            ]
          },
          "metadata": {},
          "execution_count": 23
        }
      ],
      "source": [
        "max_encoder_seq_length = max(lines['length_en'])\n",
        "max_decoder_seq_length = max(lines['length_hi'])\n",
        "\n",
        "input_words = sorted(list(en))\n",
        "target_words = sorted(list(hi))\n",
        "num_encoder_tokens = len(en)\n",
        "num_decoder_tokens = len(hi)\n",
        "num_encoder_tokens, num_decoder_tokens"
      ]
    },
    {
      "cell_type": "code",
      "execution_count": 24,
      "metadata": {
        "id": "5iP6_8xWYO-s"
      },
      "outputs": [],
      "source": [
        "num_encoder_tokens += 1\n",
        "num_decoder_tokens += 1"
      ]
    },
    {
      "cell_type": "code",
      "execution_count": 25,
      "metadata": {
        "id": "HwHCkRaCYO-s"
      },
      "outputs": [],
      "source": [
        "input_token_id = dict([(word, i + 1) for i, word in enumerate(input_words)])\n",
        "target_token_id = dict([(word, i + 1) for i, word in enumerate(target_words)])\n",
        "\n",
        "rev_input_char_id = dict((i, word) for word, i in input_token_id.items())\n",
        "rev_target_char_id = dict((i, word) for word, i in target_token_id.items())"
      ]
    },
    {
      "cell_type": "code",
      "execution_count": 26,
      "metadata": {
        "colab": {
          "base_uri": "https://localhost:8080/",
          "height": 206
        },
        "id": "9EP4jnd3YO-v",
        "outputId": "453bf47d-3923-4963-facb-a72c9d115559"
      },
      "outputs": [
        {
          "output_type": "execute_result",
          "data": {
            "text/plain": [
              "                                      english_sentence  \\\n",
              "24661  “why do we have to take pops underwear back now   \n",
              "25990      because they have an entire economic system   \n",
              "30422           all of these characteristics in spades   \n",
              "22827                he just wanted to share a rainbow   \n",
              "16429                       if i give you the letter q   \n",
              "\n",
              "                                          hindi_sentence  length_en  length_hi  \n",
              "24661  START_ “हमें पापा के कच्छे आज ही क्यों लौटाने ...         10         11  \n",
              "25990         START_ उनकी पूरी आर्थिक व्यवस्था जोकि _END          7          7  \n",
              "30422       START_ इन सभी विशेशताओं के काफी समान है _END          6          9  \n",
              "22827  START_ वह सिर्फ़ सबको इंद्रधनुष दिखाना चाहता थ...          7          9  \n",
              "16429             START_ यदि मैं आपको एक वर्ण Q दूँ _END          7          9  "
            ],
            "text/html": [
              "\n",
              "  <div id=\"df-79b5a3c0-e2de-4aa0-94fd-8f64906fca62\">\n",
              "    <div class=\"colab-df-container\">\n",
              "      <div>\n",
              "<style scoped>\n",
              "    .dataframe tbody tr th:only-of-type {\n",
              "        vertical-align: middle;\n",
              "    }\n",
              "\n",
              "    .dataframe tbody tr th {\n",
              "        vertical-align: top;\n",
              "    }\n",
              "\n",
              "    .dataframe thead th {\n",
              "        text-align: right;\n",
              "    }\n",
              "</style>\n",
              "<table border=\"1\" class=\"dataframe\">\n",
              "  <thead>\n",
              "    <tr style=\"text-align: right;\">\n",
              "      <th></th>\n",
              "      <th>english_sentence</th>\n",
              "      <th>hindi_sentence</th>\n",
              "      <th>length_en</th>\n",
              "      <th>length_hi</th>\n",
              "    </tr>\n",
              "  </thead>\n",
              "  <tbody>\n",
              "    <tr>\n",
              "      <th>24661</th>\n",
              "      <td>“why do we have to take pops underwear back now</td>\n",
              "      <td>START_ “हमें पापा के कच्छे आज ही क्यों लौटाने ...</td>\n",
              "      <td>10</td>\n",
              "      <td>11</td>\n",
              "    </tr>\n",
              "    <tr>\n",
              "      <th>25990</th>\n",
              "      <td>because they have an entire economic system</td>\n",
              "      <td>START_ उनकी पूरी आर्थिक व्यवस्था जोकि _END</td>\n",
              "      <td>7</td>\n",
              "      <td>7</td>\n",
              "    </tr>\n",
              "    <tr>\n",
              "      <th>30422</th>\n",
              "      <td>all of these characteristics in spades</td>\n",
              "      <td>START_ इन सभी विशेशताओं के काफी समान है _END</td>\n",
              "      <td>6</td>\n",
              "      <td>9</td>\n",
              "    </tr>\n",
              "    <tr>\n",
              "      <th>22827</th>\n",
              "      <td>he just wanted to share a rainbow</td>\n",
              "      <td>START_ वह सिर्फ़ सबको इंद्रधनुष दिखाना चाहता थ...</td>\n",
              "      <td>7</td>\n",
              "      <td>9</td>\n",
              "    </tr>\n",
              "    <tr>\n",
              "      <th>16429</th>\n",
              "      <td>if i give you the letter q</td>\n",
              "      <td>START_ यदि मैं आपको एक वर्ण Q दूँ _END</td>\n",
              "      <td>7</td>\n",
              "      <td>9</td>\n",
              "    </tr>\n",
              "  </tbody>\n",
              "</table>\n",
              "</div>\n",
              "      <button class=\"colab-df-convert\" onclick=\"convertToInteractive('df-79b5a3c0-e2de-4aa0-94fd-8f64906fca62')\"\n",
              "              title=\"Convert this dataframe to an interactive table.\"\n",
              "              style=\"display:none;\">\n",
              "        \n",
              "  <svg xmlns=\"http://www.w3.org/2000/svg\" height=\"24px\"viewBox=\"0 0 24 24\"\n",
              "       width=\"24px\">\n",
              "    <path d=\"M0 0h24v24H0V0z\" fill=\"none\"/>\n",
              "    <path d=\"M18.56 5.44l.94 2.06.94-2.06 2.06-.94-2.06-.94-.94-2.06-.94 2.06-2.06.94zm-11 1L8.5 8.5l.94-2.06 2.06-.94-2.06-.94L8.5 2.5l-.94 2.06-2.06.94zm10 10l.94 2.06.94-2.06 2.06-.94-2.06-.94-.94-2.06-.94 2.06-2.06.94z\"/><path d=\"M17.41 7.96l-1.37-1.37c-.4-.4-.92-.59-1.43-.59-.52 0-1.04.2-1.43.59L10.3 9.45l-7.72 7.72c-.78.78-.78 2.05 0 2.83L4 21.41c.39.39.9.59 1.41.59.51 0 1.02-.2 1.41-.59l7.78-7.78 2.81-2.81c.8-.78.8-2.07 0-2.86zM5.41 20L4 18.59l7.72-7.72 1.47 1.35L5.41 20z\"/>\n",
              "  </svg>\n",
              "      </button>\n",
              "      \n",
              "  <style>\n",
              "    .colab-df-container {\n",
              "      display:flex;\n",
              "      flex-wrap:wrap;\n",
              "      gap: 12px;\n",
              "    }\n",
              "\n",
              "    .colab-df-convert {\n",
              "      background-color: #E8F0FE;\n",
              "      border: none;\n",
              "      border-radius: 50%;\n",
              "      cursor: pointer;\n",
              "      display: none;\n",
              "      fill: #1967D2;\n",
              "      height: 32px;\n",
              "      padding: 0 0 0 0;\n",
              "      width: 32px;\n",
              "    }\n",
              "\n",
              "    .colab-df-convert:hover {\n",
              "      background-color: #E2EBFA;\n",
              "      box-shadow: 0px 1px 2px rgba(60, 64, 67, 0.3), 0px 1px 3px 1px rgba(60, 64, 67, 0.15);\n",
              "      fill: #174EA6;\n",
              "    }\n",
              "\n",
              "    [theme=dark] .colab-df-convert {\n",
              "      background-color: #3B4455;\n",
              "      fill: #D2E3FC;\n",
              "    }\n",
              "\n",
              "    [theme=dark] .colab-df-convert:hover {\n",
              "      background-color: #434B5C;\n",
              "      box-shadow: 0px 1px 3px 1px rgba(0, 0, 0, 0.15);\n",
              "      filter: drop-shadow(0px 1px 2px rgba(0, 0, 0, 0.3));\n",
              "      fill: #FFFFFF;\n",
              "    }\n",
              "  </style>\n",
              "\n",
              "      <script>\n",
              "        const buttonEl =\n",
              "          document.querySelector('#df-79b5a3c0-e2de-4aa0-94fd-8f64906fca62 button.colab-df-convert');\n",
              "        buttonEl.style.display =\n",
              "          google.colab.kernel.accessAllowed ? 'block' : 'none';\n",
              "\n",
              "        async function convertToInteractive(key) {\n",
              "          const element = document.querySelector('#df-79b5a3c0-e2de-4aa0-94fd-8f64906fca62');\n",
              "          const dataTable =\n",
              "            await google.colab.kernel.invokeFunction('convertToInteractive',\n",
              "                                                     [key], {});\n",
              "          if (!dataTable) return;\n",
              "\n",
              "          const docLinkHtml = 'Like what you see? Visit the ' +\n",
              "            '<a target=\"_blank\" href=https://colab.research.google.com/notebooks/data_table.ipynb>data table notebook</a>'\n",
              "            + ' to learn more about interactive tables.';\n",
              "          element.innerHTML = '';\n",
              "          dataTable['output_type'] = 'display_data';\n",
              "          await google.colab.output.renderOutput(dataTable, element);\n",
              "          const docLink = document.createElement('div');\n",
              "          docLink.innerHTML = docLinkHtml;\n",
              "          element.appendChild(docLink);\n",
              "        }\n",
              "      </script>\n",
              "    </div>\n",
              "  </div>\n",
              "  "
            ]
          },
          "metadata": {},
          "execution_count": 26
        }
      ],
      "source": [
        "lines = shuffle(lines)\n",
        "lines.head()"
      ]
    },
    {
      "cell_type": "markdown",
      "metadata": {
        "id": "O7mYyZwxYO-w"
      },
      "source": [
        "# Splitting the data set"
      ]
    },
    {
      "cell_type": "code",
      "execution_count": 27,
      "metadata": {
        "colab": {
          "base_uri": "https://localhost:8080/"
        },
        "id": "U96xDKRCYO-x",
        "outputId": "7ea5e730-66e3-4f6f-bdad-b1d75b40c1f2"
      },
      "outputs": [
        {
          "output_type": "execute_result",
          "data": {
            "text/plain": [
              "((30775,), (7694,))"
            ]
          },
          "metadata": {},
          "execution_count": 27
        }
      ],
      "source": [
        "# Splitting data set into 80/20 for train/test data\n",
        "split = int(0.8 * len(lines))\n",
        "\n",
        "train_set = lines[: split]\n",
        "test_set = lines[split :]\n",
        "\n",
        "x_train, y_train = train_set['english_sentence'], train_set['hindi_sentence']\n",
        "x_test, y_test = test_set['english_sentence'], test_set['hindi_sentence']\n",
        "\n",
        "x_train.shape, x_test.shape"
      ]
    },
    {
      "cell_type": "code",
      "execution_count": 28,
      "metadata": {
        "id": "Fg14VuvRYO-x"
      },
      "outputs": [],
      "source": [
        "def generate_batch(x = x_train, y = y_train, batch_size = 128):\n",
        "    while True:\n",
        "        for j in range(0, len(x), batch_size):\n",
        "            encoder_input_data = np.zeros((batch_size, max_encoder_seq_length), dtype='float32')\n",
        "            decoder_input_data = np.zeros((batch_size, max_decoder_seq_length), dtype='float32')\n",
        "            decoder_target_data = np.zeros((batch_size, max_decoder_seq_length, num_decoder_tokens), dtype='float32')\n",
        "            for i, (input_text, target_text) in enumerate(zip(x[j:j + batch_size], y[j:j + batch_size])):\n",
        "                for t, word in enumerate(input_text.split()):\n",
        "                    encoder_input_data[i, t] = input_token_id[word]   # encoder input seq\n",
        "                for t, word in enumerate(target_text.split()):    \n",
        "                    if t < len(target_text.split()) - 1:\n",
        "                        decoder_input_data[i, t] = target_token_id[word]   # decoder input seq\n",
        "                    if t > 0:\n",
        "                        # does not include the START_ token\n",
        "                        decoder_target_data[i, t - 1, target_token_id[word]] = 1. \n",
        "            yield([encoder_input_data, decoder_input_data], decoder_target_data)"
      ]
    },
    {
      "cell_type": "markdown",
      "metadata": {
        "id": "Ja4i8fHxYO-y"
      },
      "source": [
        "# Making the Model"
      ]
    },
    {
      "cell_type": "code",
      "execution_count": 29,
      "metadata": {
        "id": "jec-XDmOYO-y"
      },
      "outputs": [],
      "source": [
        "latent_dim = 256"
      ]
    },
    {
      "cell_type": "code",
      "execution_count": 30,
      "metadata": {
        "id": "qBIe7hVrYO-z"
      },
      "outputs": [],
      "source": [
        "encoder_inputs = Input(shape=(None,))  # Create the input tensor\n",
        "encoder_embedding =  Embedding(num_encoder_tokens, latent_dim, mask_zero = True)(encoder_inputs)\n",
        "encoder_lstm = LSTM(latent_dim, return_state=True)\n",
        "\n",
        "encoder_outputs, state_h, state_c = encoder_lstm(encoder_embedding)\n",
        "# We discard encoder_outputs and only keep the states\n",
        "encoder_states = [state_h, state_c]"
      ]
    },
    {
      "cell_type": "code",
      "execution_count": 31,
      "metadata": {
        "id": "bUspq8-YYO-z"
      },
      "outputs": [],
      "source": [
        "# Set up the decoder, using encoder_states as initial state.\n",
        "decoder_inputs = Input(shape=(None,))\n",
        "dec_emb_layer = Embedding(num_decoder_tokens, latent_dim, mask_zero = True)\n",
        "dec_emb = dec_emb_layer(decoder_inputs)\n",
        " \n",
        "# We set up our decoder to return full output sequences, and to return internal states as well. We don't use the return states in the training model, but we will use them in inference.\n",
        "decoder_lstm = LSTM(latent_dim, return_sequences=True, return_state=True)\n",
        "decoder_outputs, _, _ = decoder_lstm(dec_emb, initial_state=encoder_states)\n",
        "decoder_dense = Dense(num_decoder_tokens, activation='softmax')\n",
        "decoder_outputs = decoder_dense(decoder_outputs)\n",
        "\n",
        "# Define the model that will turn encoder_input_data & decoder_input_data into decoder_target_data\n",
        "model = Model([encoder_inputs, decoder_inputs], decoder_outputs)"
      ]
    },
    {
      "cell_type": "code",
      "execution_count": 32,
      "metadata": {
        "id": "itRNktldYO-0"
      },
      "outputs": [],
      "source": [
        "model.compile(optimizer='adam', loss='categorical_crossentropy')"
      ]
    },
    {
      "cell_type": "code",
      "execution_count": 33,
      "metadata": {
        "colab": {
          "base_uri": "https://localhost:8080/"
        },
        "id": "Dm7oYPXmYO-0",
        "outputId": "07262a19-36f4-4e9a-807a-d2346b71c9d9"
      },
      "outputs": [
        {
          "output_type": "stream",
          "name": "stdout",
          "text": [
            "Model: \"model\"\n",
            "__________________________________________________________________________________________________\n",
            " Layer (type)                   Output Shape         Param #     Connected to                     \n",
            "==================================================================================================\n",
            " input_1 (InputLayer)           [(None, None)]       0           []                               \n",
            "                                                                                                  \n",
            " input_2 (InputLayer)           [(None, None)]       0           []                               \n",
            "                                                                                                  \n",
            " embedding (Embedding)          (None, None, 256)    4546560     ['input_1[0][0]']                \n",
            "                                                                                                  \n",
            " embedding_1 (Embedding)        (None, None, 256)    5832448     ['input_2[0][0]']                \n",
            "                                                                                                  \n",
            " lstm (LSTM)                    [(None, 256),        525312      ['embedding[0][0]']              \n",
            "                                 (None, 256),                                                     \n",
            "                                 (None, 256)]                                                     \n",
            "                                                                                                  \n",
            " lstm_1 (LSTM)                  [(None, None, 256),  525312      ['embedding_1[0][0]',            \n",
            "                                 (None, 256),                     'lstm[0][1]',                   \n",
            "                                 (None, 256)]                     'lstm[0][2]']                   \n",
            "                                                                                                  \n",
            " dense (Dense)                  (None, None, 22783)  5855231     ['lstm_1[0][0]']                 \n",
            "                                                                                                  \n",
            "==================================================================================================\n",
            "Total params: 17,284,863\n",
            "Trainable params: 17,284,863\n",
            "Non-trainable params: 0\n",
            "__________________________________________________________________________________________________\n"
          ]
        }
      ],
      "source": [
        "model.summary()"
      ]
    },
    {
      "cell_type": "code",
      "execution_count": 34,
      "metadata": {
        "id": "_c9OmNRDYO-0"
      },
      "outputs": [],
      "source": [
        "train_samples = len(x_train)\n",
        "val_samples = len(x_test)\n",
        "batch_size = 128\n",
        "epochs = 100"
      ]
    },
    {
      "cell_type": "code",
      "execution_count": 35,
      "metadata": {
        "colab": {
          "base_uri": "https://localhost:8080/"
        },
        "id": "iIR25NADYO-1",
        "outputId": "88a20ee4-ccf4-462a-e6bc-335b938c4d20"
      },
      "outputs": [
        {
          "output_type": "stream",
          "name": "stdout",
          "text": [
            "Epoch 1/100\n",
            "240/240 [==============================] - 63s 210ms/step - loss: 3.1603 - val_loss: 2.9141\n",
            "Epoch 2/100\n",
            "240/240 [==============================] - 48s 200ms/step - loss: 2.7639 - val_loss: 2.7371\n",
            "Epoch 3/100\n",
            "240/240 [==============================] - 49s 206ms/step - loss: 2.5896 - val_loss: 2.6566\n",
            "Epoch 4/100\n",
            "240/240 [==============================] - 48s 200ms/step - loss: 2.4692 - val_loss: 2.6037\n",
            "Epoch 5/100\n",
            "240/240 [==============================] - 49s 203ms/step - loss: 2.3631 - val_loss: 2.5573\n",
            "Epoch 6/100\n",
            "240/240 [==============================] - 50s 207ms/step - loss: 2.2623 - val_loss: 2.5267\n",
            "Epoch 7/100\n",
            "240/240 [==============================] - 49s 203ms/step - loss: 2.1634 - val_loss: 2.5033\n",
            "Epoch 8/100\n",
            "240/240 [==============================] - 49s 204ms/step - loss: 2.0699 - val_loss: 2.4850\n",
            "Epoch 9/100\n",
            "240/240 [==============================] - 49s 203ms/step - loss: 1.9790 - val_loss: 2.4705\n",
            "Epoch 10/100\n",
            "240/240 [==============================] - 50s 210ms/step - loss: 1.8913 - val_loss: 2.4598\n",
            "Epoch 11/100\n",
            "240/240 [==============================] - 49s 206ms/step - loss: 1.8065 - val_loss: 2.4571\n",
            "Epoch 12/100\n",
            "240/240 [==============================] - 48s 202ms/step - loss: 1.7254 - val_loss: 2.4739\n",
            "Epoch 13/100\n",
            "240/240 [==============================] - 49s 203ms/step - loss: 1.6467 - val_loss: 2.4725\n",
            "Epoch 14/100\n",
            "240/240 [==============================] - 49s 206ms/step - loss: 1.5716 - val_loss: 2.4911\n",
            "Epoch 15/100\n",
            "240/240 [==============================] - 49s 202ms/step - loss: 1.4974 - val_loss: 2.4983\n",
            "Epoch 16/100\n",
            "240/240 [==============================] - 49s 203ms/step - loss: 1.4272 - val_loss: 2.5123\n",
            "Epoch 17/100\n",
            "240/240 [==============================] - 49s 204ms/step - loss: 1.3597 - val_loss: 2.5297\n",
            "Epoch 18/100\n",
            "240/240 [==============================] - 48s 201ms/step - loss: 1.2965 - val_loss: 2.5487\n",
            "Epoch 19/100\n",
            "240/240 [==============================] - 48s 198ms/step - loss: 1.2343 - val_loss: 2.5634\n",
            "Epoch 20/100\n",
            "240/240 [==============================] - 47s 198ms/step - loss: 1.1755 - val_loss: 2.5882\n",
            "Epoch 21/100\n",
            "240/240 [==============================] - 47s 196ms/step - loss: 1.1212 - val_loss: 2.6091\n",
            "Epoch 22/100\n",
            "240/240 [==============================] - 48s 200ms/step - loss: 1.0682 - val_loss: 2.6387\n",
            "Epoch 23/100\n",
            "240/240 [==============================] - 48s 200ms/step - loss: 1.0178 - val_loss: 2.6479\n",
            "Epoch 24/100\n",
            "240/240 [==============================] - 48s 200ms/step - loss: 0.9713 - val_loss: 2.6734\n",
            "Epoch 25/100\n",
            "240/240 [==============================] - 49s 204ms/step - loss: 0.9258 - val_loss: 2.7073\n",
            "Epoch 26/100\n",
            "240/240 [==============================] - 48s 201ms/step - loss: 0.8816 - val_loss: 2.7347\n",
            "Epoch 27/100\n",
            "240/240 [==============================] - 49s 203ms/step - loss: 0.8394 - val_loss: 2.7580\n",
            "Epoch 28/100\n",
            "240/240 [==============================] - 49s 204ms/step - loss: 0.7977 - val_loss: 2.7803\n",
            "Epoch 29/100\n",
            "240/240 [==============================] - 49s 203ms/step - loss: 0.7588 - val_loss: 2.8128\n",
            "Epoch 30/100\n",
            "240/240 [==============================] - 48s 201ms/step - loss: 0.7216 - val_loss: 2.8342\n",
            "Epoch 31/100\n",
            "240/240 [==============================] - 49s 206ms/step - loss: 0.6860 - val_loss: 2.8704\n",
            "Epoch 32/100\n",
            "240/240 [==============================] - 49s 202ms/step - loss: 0.6524 - val_loss: 2.8989\n",
            "Epoch 33/100\n",
            "240/240 [==============================] - 49s 204ms/step - loss: 0.6190 - val_loss: 2.9197\n",
            "Epoch 34/100\n",
            "240/240 [==============================] - 48s 202ms/step - loss: 0.5869 - val_loss: 2.9553\n",
            "Epoch 35/100\n",
            "240/240 [==============================] - 48s 201ms/step - loss: 0.5555 - val_loss: 2.9955\n",
            "Epoch 36/100\n",
            "240/240 [==============================] - 48s 201ms/step - loss: 0.5264 - val_loss: 3.0290\n",
            "Epoch 37/100\n",
            "240/240 [==============================] - 49s 204ms/step - loss: 0.4994 - val_loss: 3.0676\n",
            "Epoch 38/100\n",
            "240/240 [==============================] - 49s 203ms/step - loss: 0.4744 - val_loss: 3.1118\n",
            "Epoch 39/100\n",
            "240/240 [==============================] - 49s 202ms/step - loss: 0.4505 - val_loss: 3.1262\n",
            "Epoch 40/100\n",
            "240/240 [==============================] - 49s 205ms/step - loss: 0.4264 - val_loss: 3.1740\n",
            "Epoch 41/100\n",
            "240/240 [==============================] - 49s 205ms/step - loss: 0.4052 - val_loss: 3.2056\n",
            "Epoch 42/100\n",
            "240/240 [==============================] - 49s 204ms/step - loss: 0.3862 - val_loss: 3.2240\n",
            "Epoch 43/100\n",
            "240/240 [==============================] - 49s 204ms/step - loss: 0.3662 - val_loss: 3.2418\n",
            "Epoch 44/100\n",
            "240/240 [==============================] - 48s 202ms/step - loss: 0.3466 - val_loss: 3.2791\n",
            "Epoch 45/100\n",
            "240/240 [==============================] - 49s 206ms/step - loss: 0.3264 - val_loss: 3.3121\n",
            "Epoch 46/100\n",
            "240/240 [==============================] - 49s 203ms/step - loss: 0.3076 - val_loss: 3.3360\n",
            "Epoch 47/100\n",
            "240/240 [==============================] - 49s 204ms/step - loss: 0.2882 - val_loss: 3.3728\n",
            "Epoch 48/100\n",
            "240/240 [==============================] - 49s 204ms/step - loss: 0.2710 - val_loss: 3.4353\n",
            "Epoch 49/100\n",
            "240/240 [==============================] - 48s 201ms/step - loss: 0.2553 - val_loss: 3.4522\n",
            "Epoch 50/100\n",
            "240/240 [==============================] - 48s 201ms/step - loss: 0.2398 - val_loss: 3.4747\n",
            "Epoch 51/100\n",
            "240/240 [==============================] - 49s 204ms/step - loss: 0.2269 - val_loss: 3.5140\n",
            "Epoch 52/100\n",
            "240/240 [==============================] - 49s 204ms/step - loss: 0.2137 - val_loss: 3.5663\n",
            "Epoch 53/100\n",
            "240/240 [==============================] - 49s 204ms/step - loss: 0.2014 - val_loss: 3.6018\n",
            "Epoch 54/100\n",
            "240/240 [==============================] - 49s 204ms/step - loss: 0.1900 - val_loss: 3.6261\n",
            "Epoch 55/100\n",
            "240/240 [==============================] - 49s 203ms/step - loss: 0.1770 - val_loss: 3.6567\n",
            "Epoch 56/100\n",
            "240/240 [==============================] - 48s 201ms/step - loss: 0.1653 - val_loss: 3.6886\n",
            "Epoch 57/100\n",
            "240/240 [==============================] - 49s 204ms/step - loss: 0.1551 - val_loss: 3.7450\n",
            "Epoch 58/100\n",
            "240/240 [==============================] - 49s 203ms/step - loss: 0.1473 - val_loss: 3.7702\n",
            "Epoch 59/100\n",
            "240/240 [==============================] - 49s 205ms/step - loss: 0.1372 - val_loss: 3.7926\n",
            "Epoch 60/100\n",
            "240/240 [==============================] - 49s 206ms/step - loss: 0.1281 - val_loss: 3.8332\n",
            "Epoch 61/100\n",
            "240/240 [==============================] - 49s 203ms/step - loss: 0.1186 - val_loss: 3.8952\n",
            "Epoch 62/100\n",
            "240/240 [==============================] - 49s 203ms/step - loss: 0.1106 - val_loss: 3.9006\n",
            "Epoch 63/100\n",
            "240/240 [==============================] - 49s 205ms/step - loss: 0.1021 - val_loss: 3.9215\n",
            "Epoch 64/100\n",
            "240/240 [==============================] - 49s 203ms/step - loss: 0.0946 - val_loss: 3.9702\n",
            "Epoch 65/100\n",
            "240/240 [==============================] - 49s 204ms/step - loss: 0.0870 - val_loss: 4.0089\n",
            "Epoch 66/100\n",
            "240/240 [==============================] - 49s 202ms/step - loss: 0.0801 - val_loss: 4.0433\n",
            "Epoch 67/100\n",
            "240/240 [==============================] - 49s 205ms/step - loss: 0.0747 - val_loss: 4.0842\n",
            "Epoch 68/100\n",
            "240/240 [==============================] - 49s 203ms/step - loss: 0.0704 - val_loss: 4.1213\n",
            "Epoch 69/100\n",
            "240/240 [==============================] - 49s 204ms/step - loss: 0.0649 - val_loss: 4.1486\n",
            "Epoch 70/100\n",
            "240/240 [==============================] - 49s 204ms/step - loss: 0.0603 - val_loss: 4.1750\n",
            "Epoch 71/100\n",
            "240/240 [==============================] - 49s 206ms/step - loss: 0.0562 - val_loss: 4.2295\n",
            "Epoch 72/100\n",
            "240/240 [==============================] - 48s 202ms/step - loss: 0.0527 - val_loss: 4.2603\n",
            "Epoch 73/100\n",
            "240/240 [==============================] - 49s 205ms/step - loss: 0.0493 - val_loss: 4.2681\n",
            "Epoch 74/100\n",
            "240/240 [==============================] - 49s 205ms/step - loss: 0.0453 - val_loss: 4.2993\n",
            "Epoch 75/100\n",
            "240/240 [==============================] - 49s 206ms/step - loss: 0.0422 - val_loss: 4.3401\n",
            "Epoch 76/100\n",
            "240/240 [==============================] - 49s 206ms/step - loss: 0.0390 - val_loss: 4.3855\n",
            "Epoch 77/100\n",
            "240/240 [==============================] - 50s 208ms/step - loss: 0.0366 - val_loss: 4.3984\n",
            "Epoch 78/100\n",
            "240/240 [==============================] - 49s 203ms/step - loss: 0.0347 - val_loss: 4.4269\n",
            "Epoch 79/100\n",
            "240/240 [==============================] - 49s 205ms/step - loss: 0.0337 - val_loss: 4.4527\n",
            "Epoch 80/100\n",
            "240/240 [==============================] - 49s 204ms/step - loss: 0.0319 - val_loss: 4.4808\n",
            "Epoch 81/100\n",
            "240/240 [==============================] - 49s 206ms/step - loss: 0.0304 - val_loss: 4.5036\n",
            "Epoch 82/100\n",
            "240/240 [==============================] - 49s 205ms/step - loss: 0.0285 - val_loss: 4.5248\n",
            "Epoch 83/100\n",
            "240/240 [==============================] - 50s 206ms/step - loss: 0.0264 - val_loss: 4.5476\n",
            "Epoch 84/100\n",
            "240/240 [==============================] - 50s 208ms/step - loss: 0.0243 - val_loss: 4.5605\n",
            "Epoch 85/100\n",
            "240/240 [==============================] - 50s 210ms/step - loss: 0.0226 - val_loss: 4.6029\n",
            "Epoch 86/100\n",
            "240/240 [==============================] - 50s 206ms/step - loss: 0.0206 - val_loss: 4.6487\n",
            "Epoch 87/100\n",
            "240/240 [==============================] - 50s 209ms/step - loss: 0.0190 - val_loss: 4.6541\n",
            "Epoch 88/100\n",
            "240/240 [==============================] - 50s 207ms/step - loss: 0.0177 - val_loss: 4.6814\n",
            "Epoch 89/100\n",
            "240/240 [==============================] - 49s 204ms/step - loss: 0.0167 - val_loss: 4.7072\n",
            "Epoch 90/100\n",
            "240/240 [==============================] - 48s 201ms/step - loss: 0.0160 - val_loss: 4.7218\n",
            "Epoch 91/100\n",
            "240/240 [==============================] - 49s 204ms/step - loss: 0.0151 - val_loss: 4.7534\n",
            "Epoch 92/100\n",
            "240/240 [==============================] - 48s 202ms/step - loss: 0.0149 - val_loss: 4.7791\n",
            "Epoch 93/100\n",
            "240/240 [==============================] - 49s 203ms/step - loss: 0.0149 - val_loss: 4.7974\n",
            "Epoch 94/100\n",
            "240/240 [==============================] - 49s 206ms/step - loss: 0.0152 - val_loss: 4.8220\n",
            "Epoch 95/100\n",
            "240/240 [==============================] - 50s 208ms/step - loss: 0.0157 - val_loss: 4.8484\n",
            "Epoch 96/100\n",
            "240/240 [==============================] - 50s 209ms/step - loss: 0.0177 - val_loss: 4.8728\n",
            "Epoch 97/100\n",
            "240/240 [==============================] - 50s 210ms/step - loss: 0.0208 - val_loss: 4.8925\n",
            "Epoch 98/100\n",
            "240/240 [==============================] - 50s 209ms/step - loss: 0.0213 - val_loss: 4.9132\n",
            "Epoch 99/100\n",
            "240/240 [==============================] - 49s 203ms/step - loss: 0.0193 - val_loss: 4.9264\n",
            "Epoch 100/100\n",
            "240/240 [==============================] - 50s 207ms/step - loss: 0.0151 - val_loss: 4.9424\n"
          ]
        },
        {
          "output_type": "execute_result",
          "data": {
            "text/plain": [
              "<keras.callbacks.History at 0x7ff5bc933a60>"
            ]
          },
          "metadata": {},
          "execution_count": 35
        }
      ],
      "source": [
        "model.fit(\n",
        "    generate_batch(x_train, y_train, batch_size = batch_size),\n",
        "    steps_per_epoch = train_samples//batch_size,\n",
        "    epochs = epochs,\n",
        "    validation_data = generate_batch(x_test, y_test, batch_size = batch_size),\n",
        "    validation_steps = val_samples//batch_size)"
      ]
    },
    {
      "cell_type": "code",
      "execution_count": 36,
      "metadata": {
        "id": "W6k6u7WcYO-2"
      },
      "outputs": [],
      "source": [
        "model.save_weights('nmt_weights.h5')"
      ]
    },
    {
      "cell_type": "code",
      "execution_count": 37,
      "metadata": {
        "id": "kxflBi-GYO-2"
      },
      "outputs": [],
      "source": [
        "# Encode the input sequence to get the \"thought vectors\"\n",
        "encoder_model = Model(encoder_inputs, encoder_states)\n",
        "\n",
        "# Decoder setup\n",
        "# Below tensors will hold the states of the previous time step\n",
        "decoder_state_input_h = Input(shape = (latent_dim,))\n",
        "decoder_state_input_c = Input(shape = (latent_dim,))\n",
        "decoder_states_inputs = [decoder_state_input_h, decoder_state_input_c]\n",
        "\n",
        "dec_emb2 = dec_emb_layer(decoder_inputs) # Get the embeddings of the decoder sequence\n",
        "\n",
        "# To predict the next word in the sequence, set the initial states to the states from the previous time step\n",
        "decoder_outputs2, state_h2, state_c2 = decoder_lstm(dec_emb2, initial_state = decoder_states_inputs)\n",
        "decoder_states2 = [state_h2, state_c2]\n",
        "decoder_outputs2 = decoder_dense(decoder_outputs2) # A dense softmax layer to generate probability over the target vocabulary\n",
        "\n",
        "# Final decoder model\n",
        "decoder_model = Model(\n",
        "    [decoder_inputs] + decoder_states_inputs,\n",
        "    [decoder_outputs2] + decoder_states2)"
      ]
    },
    {
      "cell_type": "code",
      "execution_count": 38,
      "metadata": {
        "id": "BRcgVljDYO-2"
      },
      "outputs": [],
      "source": [
        "def decode_sequence(input_seq):\n",
        "    # Encode the input as state vectors.\n",
        "    states_value = encoder_model.predict(input_seq)\n",
        "    # Generate empty target sequence of length 1.\n",
        "    target_seq = np.zeros((1,1))\n",
        "    # Populate the first character of target sequence with the start character.\n",
        "    target_seq[0, 0] = target_token_id['START_']\n",
        "\n",
        "    # Sampling loop for a batch of sequences\n",
        "    decoded_sentence = ''\n",
        "    while True:\n",
        "        output_tokens, h, c = decoder_model.predict([target_seq] + states_value)\n",
        "\n",
        "        # Sample a token\n",
        "        sampled_token_index = np.argmax(output_tokens[0, -1, :])\n",
        "        sampled_char = rev_target_char_id[sampled_token_index]\n",
        "        decoded_sentence += ' ' + sampled_char\n",
        "\n",
        "        # Exit condition: either hit max length\n",
        "        # or find stop character.\n",
        "        if (sampled_char == '_END' or len(decoded_sentence) > 50):\n",
        "            break\n",
        "\n",
        "        # Update the target sequence (of length 1).\n",
        "        target_seq = np.zeros((1,1))\n",
        "        target_seq[0, 0] = sampled_token_index\n",
        "\n",
        "        # Update states\n",
        "        states_value = [h, c]\n",
        "\n",
        "    return decoded_sentence"
      ]
    },
    {
      "cell_type": "code",
      "execution_count": 39,
      "metadata": {
        "id": "pUotQRW-YO-3"
      },
      "outputs": [],
      "source": [
        "train_gen = generate_batch(x_train, y_train, batch_size = 1)\n",
        "k=-1"
      ]
    },
    {
      "cell_type": "code",
      "execution_count": 40,
      "metadata": {
        "colab": {
          "base_uri": "https://localhost:8080/"
        },
        "id": "Mzjd-DM9YO-3",
        "outputId": "d257f735-8a8b-4d5c-819c-4a1362db3da8"
      },
      "outputs": [
        {
          "output_type": "stream",
          "name": "stdout",
          "text": [
            "1/1 [==============================] - 1s 1s/step\n",
            "1/1 [==============================] - 1s 1s/step\n",
            "1/1 [==============================] - 0s 21ms/step\n",
            "1/1 [==============================] - 0s 17ms/step\n",
            "1/1 [==============================] - 0s 17ms/step\n",
            "1/1 [==============================] - 0s 20ms/step\n",
            "1/1 [==============================] - 0s 21ms/step\n",
            "1/1 [==============================] - 0s 18ms/step\n",
            "1/1 [==============================] - 0s 18ms/step\n",
            "1/1 [==============================] - 0s 21ms/step\n",
            "1/1 [==============================] - 0s 20ms/step\n",
            "Input English sentence: “why do we have to take pops underwear back now\n",
            "Actual Hindi Translation:  “हमें पापा के कच्छे आज ही क्यों लौटाने हैं \n",
            "Predicted Hindi Translation:  “हमें पापा के कच्छे आज ही क्यों लौटाने हैं \n"
          ]
        }
      ],
      "source": [
        "k += 1\n",
        "(input_seq, actual_output), _ = next(train_gen)\n",
        "decoded_sentence = decode_sequence(input_seq)\n",
        "print('Input English sentence:', x_train[k:k + 1].values[0])\n",
        "print('Actual Hindi Translation:', y_train[k:k + 1].values[0][6:-4])\n",
        "print('Predicted Hindi Translation:', decoded_sentence[:-4])"
      ]
    },
    {
      "cell_type": "code",
      "execution_count": 41,
      "metadata": {
        "colab": {
          "base_uri": "https://localhost:8080/"
        },
        "id": "x3VpE5tiYO-4",
        "outputId": "79cccfd0-3f2a-4410-bbc8-293b80e11766"
      },
      "outputs": [
        {
          "output_type": "stream",
          "name": "stdout",
          "text": [
            "1/1 [==============================] - 0s 19ms/step\n",
            "1/1 [==============================] - 0s 21ms/step\n",
            "1/1 [==============================] - 0s 19ms/step\n",
            "1/1 [==============================] - 0s 20ms/step\n",
            "1/1 [==============================] - 0s 18ms/step\n",
            "1/1 [==============================] - 0s 20ms/step\n",
            "1/1 [==============================] - 0s 20ms/step\n",
            "Input English sentence: because they have an entire economic system\n",
            "Actual Hindi Translation:  उनकी पूरी आर्थिक व्यवस्था जोकि \n",
            "Predicted Hindi Translation:  उनकी पूरी आर्थिक व्यवस्था जोकि \n"
          ]
        }
      ],
      "source": [
        "k += 1\n",
        "(input_seq, actual_output), _ = next(train_gen)\n",
        "decoded_sentence = decode_sequence(input_seq)\n",
        "print('Input English sentence:', x_train[k:k + 1].values[0])\n",
        "print('Actual Hindi Translation:', y_train[k:k + 1].values[0][6:-4])\n",
        "print('Predicted Hindi Translation:', decoded_sentence[:-4])"
      ]
    },
    {
      "cell_type": "code",
      "execution_count": 42,
      "metadata": {
        "colab": {
          "base_uri": "https://localhost:8080/"
        },
        "id": "WQuGtMCHYO-4",
        "outputId": "23455309-2ebd-4da7-e846-f5f6430768a6"
      },
      "outputs": [
        {
          "output_type": "stream",
          "name": "stdout",
          "text": [
            "1/1 [==============================] - 0s 17ms/step\n",
            "1/1 [==============================] - 0s 20ms/step\n",
            "1/1 [==============================] - 0s 17ms/step\n",
            "1/1 [==============================] - 0s 17ms/step\n",
            "1/1 [==============================] - 0s 18ms/step\n",
            "1/1 [==============================] - 0s 16ms/step\n",
            "1/1 [==============================] - 0s 20ms/step\n",
            "1/1 [==============================] - 0s 18ms/step\n",
            "1/1 [==============================] - 0s 16ms/step\n",
            "Input English sentence: all of these characteristics in spades\n",
            "Actual Hindi Translation:  इन सभी विशेशताओं के काफी समान है \n",
            "Predicted Hindi Translation:  इन सभी विशेशताओं के काफी समान है \n"
          ]
        }
      ],
      "source": [
        "k += 1\n",
        "(input_seq, actual_output), _ = next(train_gen)\n",
        "decoded_sentence = decode_sequence(input_seq)\n",
        "print('Input English sentence:', x_train[k:k + 1].values[0])\n",
        "print('Actual Hindi Translation:', y_train[k:k + 1].values[0][6:-4])\n",
        "print('Predicted Hindi Translation:', decoded_sentence[:-4])"
      ]
    },
    {
      "cell_type": "code",
      "execution_count": 43,
      "metadata": {
        "colab": {
          "base_uri": "https://localhost:8080/"
        },
        "id": "ZNriQxDwYO-5",
        "outputId": "71224763-3e36-4e70-eb79-e29d332b5a22"
      },
      "outputs": [
        {
          "output_type": "stream",
          "name": "stdout",
          "text": [
            "1/1 [==============================] - 0s 18ms/step\n",
            "1/1 [==============================] - 0s 19ms/step\n",
            "1/1 [==============================] - 0s 17ms/step\n",
            "1/1 [==============================] - 0s 19ms/step\n",
            "1/1 [==============================] - 0s 19ms/step\n",
            "1/1 [==============================] - 0s 16ms/step\n",
            "1/1 [==============================] - 0s 18ms/step\n",
            "1/1 [==============================] - 0s 19ms/step\n",
            "1/1 [==============================] - 0s 24ms/step\n",
            "Input English sentence: he just wanted to share a rainbow\n",
            "Actual Hindi Translation:  वह सिर्फ़ सबको इंद्रधनुष दिखाना चाहता था। \n",
            "Predicted Hindi Translation:  वह सिर्फ़ सबको इंद्रधनुष दिखाना चाहता था। \n"
          ]
        }
      ],
      "source": [
        "k += 1\n",
        "(input_seq, actual_output), _ = next(train_gen)\n",
        "decoded_sentence = decode_sequence(input_seq)\n",
        "print('Input English sentence:', x_train[k:k + 1].values[0])\n",
        "print('Actual Hindi Translation:', y_train[k:k + 1].values[0][6:-4])\n",
        "print('Predicted Hindi Translation:', decoded_sentence[:-4])"
      ]
    },
    {
      "cell_type": "code",
      "execution_count": 44,
      "metadata": {
        "colab": {
          "base_uri": "https://localhost:8080/"
        },
        "id": "HLLpQxpRYO-6",
        "outputId": "56be6286-079f-4ef2-e9f2-cd6ea79c1200"
      },
      "outputs": [
        {
          "output_type": "stream",
          "name": "stdout",
          "text": [
            "1/1 [==============================] - 0s 22ms/step\n",
            "1/1 [==============================] - 0s 18ms/step\n",
            "1/1 [==============================] - 0s 17ms/step\n",
            "1/1 [==============================] - 0s 18ms/step\n",
            "1/1 [==============================] - 0s 20ms/step\n",
            "1/1 [==============================] - 0s 17ms/step\n",
            "1/1 [==============================] - 0s 18ms/step\n",
            "1/1 [==============================] - 0s 18ms/step\n",
            "1/1 [==============================] - 0s 24ms/step\n",
            "Input English sentence: if i give you the letter q\n",
            "Actual Hindi Translation:  यदि मैं आपको एक वर्ण Q दूँ \n",
            "Predicted Hindi Translation:  यदि मैं आपको एक वर्ण Q दूँ \n"
          ]
        }
      ],
      "source": [
        "k += 1\n",
        "(input_seq, actual_output), _ = next(train_gen)\n",
        "decoded_sentence = decode_sequence(input_seq)\n",
        "print('Input English sentence:', x_train[k:k + 1].values[0])\n",
        "print('Actual Hindi Translation:', y_train[k:k + 1].values[0][6:-4])\n",
        "print('Predicted Hindi Translation:', decoded_sentence[:-4])"
      ]
    }
  ],
  "metadata": {
    "colab": {
      "provenance": [],
      "include_colab_link": true
    },
    "kernelspec": {
      "display_name": "Python 3",
      "language": "python",
      "name": "python3"
    },
    "language_info": {
      "codemirror_mode": {
        "name": "ipython",
        "version": 3
      },
      "file_extension": ".py",
      "mimetype": "text/x-python",
      "name": "python",
      "nbconvert_exporter": "python",
      "pygments_lexer": "ipython3",
      "version": "3.10.6"
    },
    "vscode": {
      "interpreter": {
        "hash": "e8bba4f2be892cbd4f39a9f240acc2c7ebb8cef7264d56c87dbb8c6b0bcbe231"
      }
    },
    "accelerator": "GPU",
    "gpuClass": "standard"
  },
  "nbformat": 4,
  "nbformat_minor": 0
}
